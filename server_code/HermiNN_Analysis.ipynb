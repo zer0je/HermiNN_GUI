!pip install anvil-uplink
# Import Essentials
import numpy as np
import torch
import torch.nn as nn
import torch.nn.functional as F
import matplotlib.pyplot as plt
from matplotlib import cm
from mpl_toolkits.mplot3d import Axes3D
from torch.optim.lr_scheduler import StepLR
import torch.optim as optim
from IPython.display import clear_output
import time
from sklearn.metrics import mean_squared_error, r2_score
from scipy.linalg import solve
from scipy.interpolate import interp1d

# Import Anvil Server
import anvil.server
anvil.server.connect("server_YMDOUOCPLSFHGAXO5ASKTZG2-MFWJWUEDDABQBXN2")
import anvil.media


# Hermite Shape Function
class ShapeNet_hermit(nn.Module):
    def __init__(self):
        super(ShapeNet_hermit, self).__init__()

    def N1(self, x):
        return 1 - 3 * x**2 + 2 * x**3
    def N2(self, x):
        return x - 2 * x**2 + x**3
    def N3(self, x):
        return 3 * x**2 - 2 * x**3
    def N4(self, x):
        return - x**2 + x**3


    def forward(self, x, x_k_min_1, x_k, x_k_plu_1, is_first, is_last):
        relu = nn.ReLU()
        if is_first:
            right_x = (x_k_plu_1 - relu(x_k_plu_1 - x_k - relu(x-x_k)) - x_k) / (x_k_plu_1 - x_k)
            disp = self.N1(right_x)
            rot = self.N2(right_x)

        elif is_last:
            left_x = (x_k - relu(x_k - x_k_min_1 - relu(x-x_k_min_1)) - x_k_min_1) / (x_k - x_k_min_1)
            disp = self.N3(left_x)
            rot = self.N4(left_x)

        else:
            # Compute both terms
            left_x = (x_k - relu(x_k - x_k_min_1 - relu(x-x_k_min_1)) - x_k_min_1) / (x_k - x_k_min_1)
            right_x = (x_k_plu_1 - relu(x_k_plu_1 - x_k - relu(x-x_k)) - x_k) / (x_k_plu_1 - x_k)
            disp = (self.N1(right_x) + self.N3(left_x)) - 1
            rot = (self.N2(right_x) + self.N4(left_x)) / 2

        return disp, rot

# Hermite Elements
class HiNet_hermit(nn.Module):
    def __init__(self, starter=-1, final=1, steps=10, DBC_s='x', DBC_f='x', initial_value = 1.0):
        super(HiNet_hermit, self).__init__()
        self.shape_function = ShapeNet_hermit()
        self.steps = steps
        self.x_k_values = torch.linspace(starter, final, steps=self.steps, dtype=torch.float32)
        self.x_k_min_1_values = torch.cat([torch.tensor([0.0]), self.x_k_values[:-1]])
        self.x_k_plu_1_values = torch.cat([self.x_k_values[1:], torch.tensor([0.0])])

        # Initialize trainable DOF parameters for each shape function
        self.fixes = 0
        self.s_s, self.s_f, self.f_s, self.f_f = 0,0,0,0
        if DBC_s == 's':
            self.s_s += 1
            self.fixes += 1
        elif DBC_s == 'f':
            self.s_f += 1
            self.fixes += 2
        if DBC_f == 's':
            self.f_s += 1
            self.fixes += 1
        elif DBC_f == 'f':
            self.f_f += 1
            self.fixes += 2

        num_params = 2 * self.steps - self.fixes
        if isinstance(initial_value, list):
            assert len(initial_value) == num_params, f"Initial value list length {len(initial_value)} does not match expected number of parameters {num_params}."
            self.dof_params = nn.Parameter(torch.tensor(initial_value, dtype=torch.float32))
        else:
            self.dof_params = nn.Parameter(torch.full((num_params,), initial_value))

    def forward(self, x):
        total_output = 0

        dof_counter = 0
        for i in range(self.steps):
            x_k_min_1 = self.x_k_min_1_values[i]
            x_k = self.x_k_values[i]
            x_k_plu_1 = self.x_k_plu_1_values[i]
            is_first = (i == 0)
            is_last = (i == len(self.x_k_values) - 1)
            disp, rot = self.shape_function(x, x_k_min_1, x_k, x_k_plu_1, is_first, is_last)

            if is_first:
                if self.s_s > 0:
                    disp = 0
                    total_output += self.dof_params[dof_counter] * rot
                    dof_counter += 1
                elif self.s_f > 0:
                  pass
                else:
                    total_output += self.dof_params[dof_counter] * disp
                    dof_counter += 1
                    total_output += self.dof_params[dof_counter] * rot
                    dof_counter += 1

            elif is_last:
                if self.f_s > 0:
                    total_output += self.dof_params[dof_counter] * rot
                    dof_counter += 1
                elif self.f_f > 0:
                  pass
                else:
                    total_output += self.dof_params[dof_counter] * disp
                    dof_counter += 1
                    total_output += self.dof_params[dof_counter] * rot
                    dof_counter += 1
            else:
                total_output += self.dof_params[dof_counter] * disp
                dof_counter += 1
                total_output += self.dof_params[dof_counter] * rot
                dof_counter += 1
            #print(f'{i}th total output: {total_output}')
        #print(dof_counter)
        return total_output


#-------------------------------------------------------------------------------
# Beam Anlaysis
beam_parameters = {}  # 전역 변수로 선언

@anvil.server.callable
def initialize_beam_parameters(left_condition,right_condition,E, I, L, P,x_p,q,lr,epochs):
    global beam_parameters
    beam_parameters = {
        'left_condition': left_condition,
        'right_condition': right_condition,
        'E': E,
        'I': I,
        'L': L,
        'P': P,
        'x_p': x_p,
        'q': q,
        'lr': lr,
        'epochs':epochs
    }


# 2nd order derivative in x axis
def dw_2(x, w):
    dw_dx = torch.autograd.grad(w, x, grad_outputs=torch.ones_like(w), create_graph=True, retain_graph=True)[0]
    dw_xx = torch.autograd.grad(dw_dx, x, grad_outputs=torch.ones_like(dw_dx), create_graph=True, retain_graph=True)[0]
    return dw_xx

# Total Potential Energy with Technical Beam Theory(Euler Beam)
def TPE_EB(x, w,E,I,L,P,x_p,q):
    dw_xx = dw_2(x, w)
    U = torch.mean(0.5 * (E * I * dw_xx**2))*L

    position_P=x_p/L
    V = w[int(position_P*(len(w)-1))] * P + torch.mean(w)*q*L

    return U, V


@anvil.server.callable
def calculate_beam():
  # Proplem Statement for Euler Beam
  left_condition=beam_parameters.get('left_condition')
  right_condition=beam_parameters.get('right_condition')
  E = float(beam_parameters.get('E'))
  I = float(beam_parameters.get('I'))
  L = float(beam_parameters.get('L'))
  P = float(beam_parameters.get('P'))
  x_p=float(beam_parameters.get('x_p'))
  q=float(beam_parameters.get('q'))
  lr = float(beam_parameters.get('lr'))
  num_epochs = int(beam_parameters.get('epochs'))

  # Initializing HermiNN
  model = HiNet_hermit(0, L, 2, left_condition, right_condition)

  # Sampling coordinate data
  data = torch.linspace(0, L, 1000).unsqueeze(1)  # 입력 크기에 맞게 reshape
  #data = torch.tensor(data, dtype=torch.float32, requires_grad=True)

  # Updated line to avoid the warning and keep gradient tracking
  data = data.clone().detach().requires_grad_(True)

  # Optimizer Settings
  optimizer = optim.Adam(model.parameters(), lr=lr)
  start_time_ml = time.time()


  for epoch in range(num_epochs):
      optimizer.zero_grad()
      w = model(data)
      U, V = TPE_EB(data, w,E,I,L,P,x_p,q)
      loss = U + V
      loss.backward()
      optimizer.step()

  end_time_ml = time.time()

  # Define the analytic solution function
  def analytic_solution(x,left_condition,right_condition, L, P, E, I, x_p,q):
    w = np.zeros_like(x)

    # Fixed-Free
    if left_condition == 'f' and right_condition == 'x':
        for i in range(len(x)):
            if x[i] < x_p:
                w[i] = (P * x[i]**2 / (6 * E * I)) * (3 * x_p - x[i]) +(q / (24 * E * I)) * x[i]**2 * (6*L**2 - 4*L*x[i] + x[i]**2)
            else:
                w[i] = (P * x_p**2 / (6 * E * I)) * (3 * x[i] - x_p) +(q / (24 * E * I)) * x[i]**2 * (6*L**2 - 4*L*x[i] + x[i]**2)

    # Fixed-Simply Supported
    elif left_condition == 'f' and right_condition == 's':
        for i in range(len(x)):
             if x[i] < x_p:
              w[i] = (P * (L-x_p) / (12* E * I*L**3)) *(x[i])**2 *(3*L**2*(L-x[i])-(L-x_p)**2*(L-x[i])-2*(L-x_p)**2*L) +(q*(L-x[i])/(48*E*I)*(L**3-3*L*(L-x[i])**2+2*(L-x[i])**3))

             else:
              w[i] = (P * (x_p)**2*(L-x[i]) / (12 * E * I*L**3)) * (3*(L-x_p)*L**2-2*L*(L-x[i])**2-(L-x_p)*(L-x[i])**2)+ (q*(L-x[i])/(48*E*I)*(L**3-3*L*(L-x[i])**2+2*(L-x[i])**3))


    # Fixed-Fixed
    elif left_condition == 'f' and right_condition == 'f':
        for i in range(len(x)):
            if x[i] < x_p:
                w[i] = (P * x[i]**2 / (24 * E * I)) * (6 * L * x_p - 4 * L * x[i] + x_p * (L - x_p) - x[i] * (L - x_p))+(q / (24 * E * I)) * x[i]**2 * (6*L**2 - 4*L*x[i] + x[i]**2)
            else:
                w[i] = (P * x_p**2 / (24 * E * I)) * (4 * L * x[i] - x_p * (L - x_p) - 6 * L * x_p + x_p * (L - x_p) + x[i] * (L - x_p))+(q / (24 * E * I)) * x[i]**2 * (6*L**2 - 4*L*x[i] + x[i]**2)


    # Simply Supported-Simply Supported
    elif left_condition == 's' and right_condition == 's':
        for i in range(len(x)):
            if x[i] < x_p:
                w[i] = (P * (L-x_p)*x[i]/(6*L*E*I))*(L**2-(L-x_p)**2-x[i]**2) +(q*x[i] / (24 * E * I)) *  (L**3-2*L*(x[i]**2) + x[i]**3)
            else:
                w[i] = (P * x_p*(L-x[i]) / (6*L*E*I)) * (L**2-x_p**2-(L-x[i])**2) +(q*x[i] / (24 * E * I)) *  (L**3-2*L*(x[i]**2) + x[i]**3)



    # Simply Supported-Fixed
    elif left_condition == 's' and right_condition == 'f':
        for i in range(len(x)):
            if x[i] < x_p:
                w[i] = (P * (L-x_p)**2*x[i] / (12 * E * I*L**3)) * (3*x_p*L**2-2*L*x[i]**2-x_p*x[i]**2)+ (q*x[i]/(48*E*I)*(L**3-3*L*x[i]**2+2*x[i]**3))
            else:
                w[i] = (P * x_p / (12* E * I*L**3)) *(L-x[i])**2 *(3*L**2*x[i]-x_p**2*x[i]-2*x_p**2*L) +(q*x[i]/(48*E*I)*(L**3-3*L*x[i]**2+2*x[i]**3))

    # Free-Fixed
    elif left_condition == 'x' and right_condition == 'f':
        for i in range(len(x)):
            if x[i] < x_p:
                w[i] = (P * (L-x_p)**2 / (6 * E * I)) * (3*L-3*x[i]-(L-x_p)) +(q / (24 * E * I)) * (L-x[i])**2 * (6*L**2 - 4*L*(L-x[i]) + (L-x[i])**2)
            else:
                w[i] = (P * (L-x[i])**2 / (6 * E * I)) * (3*(L-x_p)-L+x[i]) +(q / (24 * E * I)) * (L-x[i])**2 * (6*L**2 - 4*L*(L-x[i]) + (L-x[i])**2)

    return -w

  # Sampling coordinate data
  sampling_points = 10000
  data = torch.linspace(0, L, sampling_points).unsqueeze(1)
  data = torch.tensor(data, dtype=torch.float32, requires_grad=True)

  w = model(data)

  # Arrange Trained Data
  data_np = data.detach().numpy()
  w_np = w.detach().numpy()
  w_analytic = analytic_solution(data_np,left_condition,right_condition,L,P,E,I,x_p,q)
  x_fine = np.linspace(0, L, sampling_points)


  # Statistic Values (Learned Solution)
  mse_ml = mean_squared_error(w_np, w_analytic)
  r2_ml = r2_score(w_np,w_analytic)

  # plot deflection
  plt.figure(figsize=(10, 6))
  plt.plot(x_fine, w_analytic*1000, 'r-', label='Analytic Solution')
  plt.plot(data_np, w_np*1000, 'b--', label='HermiNN')
  plt.xlabel('x[m]')
  plt.ylabel('w[mm]')
  plt.legend()
  plt.title('Learned vs Analytic Solution')
  # save image
  image_path = "/tmp/beam_plot.png"
  plt.savefig(image_path)

   # save text result
  result = (
        f"Learned Solution:\n"
        f"MAE: {mse_ml**(1/2):.4f}\n"
        f"R^2: {r2_ml:.4f}\n"
        f"Time Consumed: {end_time_ml - start_time_ml:.4f} seconds\n"
    )

  return anvil.media.from_file(image_path, "image/png"), result

#-------------------------------------------------------------------------------
# Plate Analysis
plate_parameters = {}

@anvil.server.callable
def initialize_plate_parameters(boundary_condition,E,mu,a,b,h,q,lr,epochs):
    global plate_parameters
    plate_parameters = {
        'boundary_condition': boundary_condition,
        'E': E,
        'mu': mu,
        'a': a,
        'b': b,
        'h': h,
        'q': q,
        'lr': lr,
        'epochs':epochs
    }

# Data Sampling Function
def train_data_grid(Nx, Ny):
    # Generate x and y coordinates
    x = np.linspace(-1, 1, Nx)
    y = np.linspace(-1, 1, Ny)

    # Use meshgrid to generate grid points
    X, Y = np.meshgrid(x, y)

    # Transform grid points into (N, 2) shape
    Xf = np.vstack([X.ravel(), Y.ravel()]).T

    # Convert to PyTorch tensor
    Xf = torch.tensor(Xf, dtype=torch.float32, requires_grad=True)

    return Xf

def train_data(Nf, seed=None):
    if seed is not None:
        np.random.seed(seed)

    while True:
        Xf2 = np.random.rand(Nf, 2) * 2 - 1
        # eliminate points at boundary
        Xf2 = Xf2[~((np.isclose(Xf2[:, 0], -1) | np.isclose(Xf2[:, 0], 1)) |
                    (np.isclose(Xf2[:, 1], -1) | np.isclose(Xf2[:, 1], 1)))]
        if len(Xf2) >= Nf:
            break
    Xf2 = Xf2[:Nf]
    Xf2 = torch.tensor(Xf2, dtype=torch.float32, requires_grad=True)

    return Xf2

# 1st order derivative
def grad_w(xy, w):
    dw_xy = torch.autograd.grad(w, xy, grad_outputs=torch.ones_like(w), create_graph=True, retain_graph=True)
    dw_x = dw_xy[0][:,0]
    dw_y = dw_xy[0][:,1]

    return dw_x, dw_y

# 2nd order derivative
def Laplace_w(xy, w):
    dw_xy = torch.autograd.grad(w, xy, grad_outputs=torch.ones_like(w), create_graph=True, retain_graph=True)
    dw_x = dw_xy[0][:,0]
    dw_y = dw_xy[0][:,1]

    dw_x_xy = torch.autograd.grad(dw_x, xy, grad_outputs=torch.ones_like(dw_x), create_graph=True, retain_graph=True)
    dw_xx = dw_x_xy[0][:,0]
    dw_xy = dw_x_xy[0][:,1]

    dw_y_xy = torch.autograd.grad(dw_y, xy, grad_outputs=torch.ones_like(dw_y), create_graph=True, retain_graph=True)
    dw_yy = dw_y_xy[0][:,1]

    return dw_x, dw_y, dw_xx, dw_xy, dw_yy

# Total Potential Energy based on Plane stress
def TPE_PlaneStress(xy, w,D,q):
    _, _, dw_xx, dw_xy, dw_yy = Laplace_w(xy, w)

    #U_b = D / 2 * ((dw_xx+dw_yy)**2 + 2*(1-mu)*(dw_xy**2 - dw_xx*dw_yy))
    U_b = D / 2 * ((dw_xx+dw_yy)**2)

    U_e = q*w

    #print(U_b.shape), print(U_e.shape)

    return torch.mean(U_b), torch.mean(U_e)

# Total Potential Energy based on Foppl-von karman
def TPE_FvK(xy, u, v, w,mu,D,C,q):

    du_x, du_y = grad_w(xy, u)
    dv_x, dv_y = grad_w(xy, v)
    dw_x, dw_y, dw_xx, dw_xy, dw_yy = Laplace_w(xy, w)

    eps_xx = du_x + 0.5*dw_x**2
    eps_yy = dv_y + 0.5*dw_y**2
    eps_xy = 0.5*(du_y + dv_x) + dw_y*dw_x

    N_xx = C*(eps_xx + mu*eps_yy)
    N_yy = C*(eps_yy + mu*eps_xx)
    N_xy = C*(1 - mu)*eps_xy #N/m

    k_xx = -dw_xx
    k_yy = -dw_yy
    k_xy = -dw_xy

    M_xx = D*(k_xx + mu*k_yy)
    M_yy = D*(k_yy + mu*k_xx)
    M_xy = D*(1 - mu)*dw_xy # N

    U_m = 0.5*(eps_xx*N_xx + eps_yy*N_yy + 2*eps_xy*N_xy)
    U_b = 0.5*(k_xx*M_xx + k_yy*M_yy + 2*k_xy*M_xy)
    U_e = q*w # N/m

    return torch.mean(U_m), torch.mean(U_b), torch.mean(U_e)


@anvil.server.callable
def calculate_plate():
  # Proplem Statement for Plate
  boundary_condition=plate_parameters.get('boundary_condition')
  E = float(plate_parameters.get('E'))
  mu = float(plate_parameters.get('mu'))
  a = float(plate_parameters.get('a'))
  b = float(plate_parameters.get('b'))
  h=float(plate_parameters.get('h'))
  q=float(plate_parameters.get('q'))
  lr = float(plate_parameters.get('lr'))
  num_epochs = int(plate_parameters.get('epochs'))
  D = E*(h**3)/(12*(1-mu**2))
  C = E*h / (1-mu**2)

  # Initializing Network
  start_time_ml = time.time()

  n_segments = 3
  modes = 3
  net_x = [HiNet_hermit(-1, 1, n_segments, boundary_condition, boundary_condition, initial_value = 0.0001),
         HiNet_hermit(-1, 1, n_segments, boundary_condition, boundary_condition, initial_value = 0.0001),
         HiNet_hermit(-1, 1, n_segments, boundary_condition, boundary_condition, initial_value = 1.)]
  net_y = [HiNet_hermit(-1, 1, n_segments, boundary_condition, boundary_condition, initial_value = 0.0001),
         HiNet_hermit(-1, 1, n_segments, boundary_condition, boundary_condition, initial_value = 0.0001),
         HiNet_hermit(-1, 1, n_segments, boundary_condition, boundary_condition, initial_value = 1.)]

  # Define Displacement Field
  def Net_u(x):
      output = net_x[0](x[:,0]) * net_y[0](x[:,1])
      #output *= a
      return output

  def Net_v(x):
      output = net_x[1](x[:,0]) * net_y[1](x[:,1])
      #output *= b
      return output

  def Net_w(x):
      output = net_x[2](x[:,0]) * net_y[2](x[:,1])
      output *= h
      return output


  # Sampling coordinate data
  num_sample_points = 1000
  seed = 42
  #data = train_data(num_sample_points)
  data = train_data_grid(100, 100)

  # Optimizer Settings
  params = []
  for i in range(modes):
    params += list(net_x[i].parameters()) + list(net_y[i].parameters())

  optimizer = optim.Adam(params, lr=lr)

  start_time_ml = time.time()


  for epoch in range(num_epochs):
      optimizer.zero_grad()
      u = Net_u(data)
      v = Net_v(data)
      w = Net_w(data)
      U_m, U_b, U_e = TPE_FvK(data, u, v, w,mu,D,C,q)
      loss = U_m + U_b - U_e
      loss.backward()
      optimizer.step()

      if (epoch + 1) % 1 == 0:
          data = train_data(num_sample_points, seed)
          seed += 1

  end_time_ml = time.time()

  # Arrange Trained Data
  data = train_data_grid(100, 100)

  # Generate displacement fields
  u = Net_u(data).detach().numpy()*1000
  v = Net_v(data).detach().numpy()*1000
  w = Net_w(data).detach().numpy()*1000

  # Reshape data for plotting
  x = data[:, 0].detach().numpy() * a
  y = data[:, 1].detach().numpy() * b

  # Create a meshgrid for plotting
  X, Y = np.meshgrid(np.unique(x), np.unique(y))
  U = u.reshape(X.shape)
  V = v.reshape(X.shape)
  W = w.reshape(X.shape)


  # Plotting 3D deflection
  fig = plt.figure(figsize=(12, 10))
  ax3 = fig.add_subplot(111, projection='3d')
  ax3.plot_surface(X, Y, W, cmap='viridis')
  ax3.set_title('W Displacement[mm]')
  ax3.set_xlabel('X[m]')
  ax3.set_ylabel('Y[m]')
  ax3.set_zlabel('W[mm]')
  # save image
  image_3d_path = "/tmp/plate_3d_plot.png"
  plt.savefig(image_3d_path)

  # Plotting 2D displacment
  fig, axs = plt.subplots(1, 3, figsize=(18, 6))
  # Plot U displacement
  im1 = axs[0].imshow(U, extent=(x.min(), x.max(), y.min(), y.max()), origin='lower', cmap='viridis')
  axs[0].set_title('U Displacement[mm]')
  axs[0].set_xlabel('X[m]')
  axs[0].set_ylabel('Y[m]')
  fig.colorbar(im1, ax=axs[0])
  # Plot V displacement
  im2 = axs[1].imshow(V, extent=(x.min(), x.max(), y.min(), y.max()), origin='lower', cmap='viridis')
  axs[1].set_title('V Displacement[mm]')
  axs[1].set_xlabel('X[m]')
  axs[1].set_ylabel('Y[m]')
  fig.colorbar(im2, ax=axs[1])
  # Plot W displacement
  im3 = axs[2].imshow(W, extent=(x.min(), x.max(), y.min(), y.max()), origin='lower', cmap='viridis')
  axs[2].set_title('W Displacement[mm]')
  axs[2].set_xlabel('X[m]')
  axs[2].set_ylabel('Y[m]')
  fig.colorbar(im3, ax=axs[2])
  plt.tight_layout()
  # save image
  image_2d_path = "/tmp/plate_2d_plot.png"
  plt.savefig(image_2d_path)

  # save text result

  result = (
        f"Time Consumed: {end_time_ml - start_time_ml}\n"
        f"Maximum deflection: {max(Net_w(data).detach().numpy())*1000:.4f}mm\n"
    )

  return anvil.media.from_file(image_3d_path, "image_3d/png"),anvil.media.from_file(image_2d_path, "image_2d/png"), result



# 서버가 종료되지 않고 계속 실행되도록 설정
anvil.server.wait_forever()


